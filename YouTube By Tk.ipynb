{
 "cells": [
  {
   "cell_type": "code",
   "execution_count": 1,
   "id": "cf877f7f",
   "metadata": {},
   "outputs": [],
   "source": [
    "from pytube import YouTube\n",
    "from tkinter import*\n",
    "from tkinter.ttk import *\n",
    "from tkinter.messagebox import *\n",
    "\n",
    "obj = Tk()\n",
    "obj.configure(bg='pink')  #for background color change\n",
    "\n",
    "obj.geometry(\"300x200\")\n",
    "\n",
    "def download():\n",
    "    yt = YouTube(e1.get())\n",
    "    yt1 = yt.streams.get_by_resolution(c1.get())\n",
    "    showinfo(\"notification\",\"Downloading\")\n",
    "    yt1.download(r\"D:\\Bhanu\")\n",
    "    showinfo(\"notification\",\"Succesfully Downloaded\")\n",
    "    \n",
    "l1 = Label(obj,text=\"Enter Link = \")\n",
    "l1.grid(row=0, column=0)\n",
    "\n",
    "l2 = Label(obj,text=\"Resolution = \")\n",
    "l2.grid(row=1, column=0)\n",
    "\n",
    "e1 = Entry(obj,width=35)\n",
    "e1.grid(row=0,column=1)\n",
    "\n",
    "c1=Combobox(obj,values=['360p','480p','720p','1080p'])\n",
    "c1.grid(row=1,column=1)\n",
    "\n",
    "b1 = Button(obj,text =\"download\",command=download)\n",
    "b1.grid(row=4,column=1)\n",
    "\n",
    "\n",
    "\n",
    "\n",
    "obj.mainloop()\n"
   ]
  },
  {
   "cell_type": "code",
   "execution_count": null,
   "id": "d5034742",
   "metadata": {},
   "outputs": [],
   "source": []
  },
  {
   "cell_type": "code",
   "execution_count": null,
   "id": "b8f77fdf",
   "metadata": {},
   "outputs": [],
   "source": []
  }
 ],
 "metadata": {
  "kernelspec": {
   "display_name": "Python 3 (ipykernel)",
   "language": "python",
   "name": "python3"
  },
  "language_info": {
   "codemirror_mode": {
    "name": "ipython",
    "version": 3
   },
   "file_extension": ".py",
   "mimetype": "text/x-python",
   "name": "python",
   "nbconvert_exporter": "python",
   "pygments_lexer": "ipython3",
   "version": "3.11.3"
  }
 },
 "nbformat": 4,
 "nbformat_minor": 5
}
